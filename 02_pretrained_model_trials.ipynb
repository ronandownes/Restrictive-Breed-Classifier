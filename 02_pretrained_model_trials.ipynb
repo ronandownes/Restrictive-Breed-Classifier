{
 "cells": [
  {
   "cell_type": "code",
   "execution_count": 1,
   "id": "12fc6e06-d730-45b0-b777-0216f4a7d485",
   "metadata": {},
   "outputs": [],
   "source": [
    "# --- CELL 1: IMPORTS & CONFIG ---\n",
    "import tensorflow as tf\n",
    "from tensorflow.keras import layers, models, applications, callbacks, optimizers\n",
    "import matplotlib.pyplot as plt\n",
    "import seaborn as sns\n",
    "import numpy as np\n",
    "import pandas as pd\n",
    "import os\n",
    "from sklearn.metrics import confusion_matrix, ConfusionMatrixDisplay, classification_report\n",
    "\n",
    "# --- CONFIG ---\n",
    "IMG_SIZE = (224, 224)\n",
    "BATCH_SIZE = 32\n",
    "EPOCHS = 30\n",
    "PATIENCE = 3\n",
    "LEARNING_RATE = 1e-4\n",
    "FIG_DIR = \"figures\"\n",
    "os.makedirs(FIG_DIR, exist_ok=True)\n"
   ]
  },
  {
   "cell_type": "code",
   "execution_count": 2,
   "id": "7923d165-fb84-413f-8622-6246ae6d4cfa",
   "metadata": {},
   "outputs": [],
   "source": [
    "# --- CELL 2: AUGMENTATION & MODEL REGISTRY ---\n",
    "\n",
    "# Fixed augmentation for training\n",
    "data_augmentation = tf.keras.Sequential([\n",
    "    layers.RandomFlip(\"horizontal\"),\n",
    "    layers.RandomZoom(0.1),\n",
    "    layers.RandomRotation(0.05),\n",
    "    layers.RandomBrightness(0.1),\n",
    "])\n",
    "\n",
    "# Models to compare\n",
    "MODEL_REGISTRY = {\n",
    "    \"VGG16\": applications.VGG16,\n",
    "    \"ResNet50\": applications.ResNet50,\n",
    "    \"InceptionV3\": applications.InceptionV3,\n",
    "    \"Xception\": applications.Xception,\n",
    "    \"InceptionResNetV2\": applications.InceptionResNetV2,\n",
    "    \"NASNetMobile\": applications.NASNetMobile,\n",
    "}\n"
   ]
  },
  {
   "cell_type": "code",
   "execution_count": 3,
   "id": "21f39da3-8625-4ac4-8bb0-97e32882a435",
   "metadata": {},
   "outputs": [
    {
     "name": "stdout",
     "output_type": "stream",
     "text": [
      "Found 1120 files belonging to 2 classes.\n",
      "Found 229 files belonging to 2 classes.\n",
      "Found 237 files belonging to 2 classes.\n",
      "Datasets loaded.\n"
     ]
    }
   ],
   "source": [
    "# --- CELL 3: LOAD DATASETS ---\n",
    "\n",
    "def prepare_dataset(dir_path, augment=False, shuffle=True):\n",
    "    ds = tf.keras.preprocessing.image_dataset_from_directory(\n",
    "        dir_path,\n",
    "        labels=\"inferred\",\n",
    "        label_mode=\"binary\",\n",
    "        batch_size=BATCH_SIZE,\n",
    "        image_size=IMG_SIZE,\n",
    "        shuffle=shuffle\n",
    "    )\n",
    "    ds = ds.map(lambda x, y: (tf.cast(x, tf.float32) / 255.0, y))\n",
    "    return ds\n",
    "\n",
    "train_ds = prepare_dataset(\"train\", augment=True, shuffle=True)\n",
    "val_ds = prepare_dataset(\"val\", augment=False, shuffle=False)\n",
    "test_ds = prepare_dataset(\"test\", augment=False, shuffle=False)\n",
    "\n",
    "# Optional: speed up pipeline\n",
    "AUTOTUNE = tf.data.AUTOTUNE\n",
    "train_ds = train_ds.cache().prefetch(buffer_size=AUTOTUNE)\n",
    "val_ds = val_ds.cache().prefetch(buffer_size=AUTOTUNE)\n",
    "test_ds = test_ds.cache().prefetch(buffer_size=AUTOTUNE)\n",
    "\n",
    "print(\"Datasets loaded.\")\n"
   ]
  },
  {
   "cell_type": "code",
   "execution_count": 4,
   "id": "9528fd02-523d-4ed6-8588-af8afed46ba2",
   "metadata": {},
   "outputs": [],
   "source": [
    "# --- CELL 4: BUILD MODEL ---\n",
    "\n",
    "def build_model(model_name):\n",
    "    base_model = MODEL_REGISTRY[model_name](\n",
    "        include_top=False,\n",
    "        weights='imagenet',\n",
    "        input_shape=(*IMG_SIZE, 3),\n",
    "        pooling='avg'\n",
    "    )\n",
    "    base_model.trainable = False\n",
    "\n",
    "    inputs = layers.Input(shape=(*IMG_SIZE, 3))\n",
    "    x = data_augmentation(inputs)\n",
    "    x = base_model(x, training=False)\n",
    "    x = layers.Dense(256, activation='relu')(x)\n",
    "    x = layers.BatchNormalization()(x)\n",
    "    x = layers.Dropout(0.4)(x)\n",
    "    outputs = layers.Dense(1, activation='sigmoid')(x)\n",
    "\n",
    "    model = models.Model(inputs, outputs)\n",
    "    model.compile(\n",
    "        optimizer=optimizers.Adam(learning_rate=LEARNING_RATE),\n",
    "        loss='binary_crossentropy',\n",
    "        metrics=[\n",
    "            'accuracy',\n",
    "            tf.keras.metrics.Precision(name=\"precision\"),\n",
    "            tf.keras.metrics.Recall(name=\"recall\"),\n",
    "            tf.keras.metrics.AUC(name=\"auc\")\n",
    "        ]\n",
    "    )\n",
    "    return model\n"
   ]
  },
  {
   "cell_type": "code",
   "execution_count": 5,
   "id": "a2bbefce-6c34-4a98-af4c-65e14e4575f2",
   "metadata": {},
   "outputs": [],
   "source": [
    "# --- CELL 5: CALLBACKS & PLOTS ---\n",
    "\n",
    "def get_callbacks(model_name):\n",
    "    return [\n",
    "        callbacks.EarlyStopping(monitor='val_loss', patience=PATIENCE, restore_best_weights=True),\n",
    "        callbacks.ModelCheckpoint(f\"models/{model_name}_best.keras\", save_best_only=True),\n",
    "        callbacks.CSVLogger(f\"logs/{model_name}.csv\", append=False)\n",
    "    ]\n",
    "\n",
    "def plot_metrics(history, model_name):\n",
    "    df = pd.DataFrame(history.history)\n",
    "    fig, ax1 = plt.subplots()\n",
    "    ax2 = ax1.twinx()\n",
    "    df[['accuracy', 'val_accuracy']].plot(ax=ax1, style=['-','--'])\n",
    "    df[['loss', 'val_loss']].plot(ax=ax2, style=['-','--'], color=['tab:red','tab:orange'])\n",
    "    ax1.set_ylabel('Accuracy')\n",
    "    ax2.set_ylabel('Loss')\n",
    "    plt.title(f\"{model_name} Accuracy & Loss\")\n",
    "    plt.savefig(f\"{FIG_DIR}/{model_name}_acc_loss.png\")\n",
    "    plt.close()\n",
    "\n",
    "def save_confusion_matrix(y_true, y_pred, model_name):\n",
    "    cm = confusion_matrix(y_true, y_pred)\n",
    "    disp = ConfusionMatrixDisplay(cm)\n",
    "    disp.plot(cmap='Blues')\n",
    "    plt.title(f\"{model_name} Confusion Matrix\")\n",
    "    plt.savefig(f\"{FIG_DIR}/{model_name}_cm.png\")\n",
    "    plt.close()\n",
    "    print(classification_report(y_true, y_pred))\n"
   ]
  },
  {
   "cell_type": "code",
   "execution_count": 6,
   "id": "b01da8b0-ae68-4785-9c61-11ad4d8b8c61",
   "metadata": {},
   "outputs": [],
   "source": [
    "# --- CELL 6: RUN MODEL SELECTION ---\n",
    "\n",
    "def run_model_selection(train_ds, val_ds, test_ds):\n",
    "    results = []\n",
    "    for name in MODEL_REGISTRY:\n",
    "        print(f\"\\nTraining {name}...\")\n",
    "        model = build_model(name)\n",
    "        hist = model.fit(\n",
    "            train_ds,\n",
    "            validation_data=val_ds,\n",
    "            epochs=EPOCHS,\n",
    "            callbacks=get_callbacks(name),\n",
    "            verbose=2\n",
    "        )\n",
    "        plot_metrics(hist, name)\n",
    "\n",
    "        print(\"\\nEvaluating on test set...\")\n",
    "        y_true = np.concatenate([y for x, y in test_ds], axis=0)\n",
    "        y_pred_probs = model.predict(test_ds)\n",
    "        y_pred = (y_pred_probs > 0.5).astype(int).flatten()\n",
    "        save_confusion_matrix(y_true, y_pred, name)\n",
    "\n",
    "        scores = model.evaluate(test_ds, verbose=0)\n",
    "        results.append((name, *scores))\n",
    "\n",
    "    df = pd.DataFrame(results, columns=[\"Model\", \"Loss\", \"Accuracy\", \"Precision\", \"Recall\", \"AUC\"])\n",
    "    df.to_csv(\"model_selection_results.csv\", index=False)\n",
    "    print(\"\\nAll model evaluations complete. Summary:\")\n",
    "    print(df.sort_values(\"Accuracy\", ascending=False))\n"
   ]
  },
  {
   "cell_type": "code",
   "execution_count": 7,
   "id": "a12c34eb-c1ba-41fd-a2c5-34a58926a192",
   "metadata": {},
   "outputs": [
    {
     "name": "stdout",
     "output_type": "stream",
     "text": [
      "\n",
      "Training VGG16...\n"
     ]
    },
    {
     "ename": "FileNotFoundError",
     "evalue": "[Errno 2] No such file or directory: 'logs/VGG16.csv'",
     "output_type": "error",
     "traceback": [
      "\u001b[1;31m---------------------------------------------------------------------------\u001b[0m",
      "\u001b[1;31mFileNotFoundError\u001b[0m                         Traceback (most recent call last)",
      "Cell \u001b[1;32mIn[7], line 3\u001b[0m\n\u001b[0;32m      1\u001b[0m \u001b[38;5;66;03m# --- CELL 7: LAUNCH COMPARISON ---\u001b[39;00m\n\u001b[1;32m----> 3\u001b[0m run_model_selection(train_ds, val_ds, test_ds)\n",
      "Cell \u001b[1;32mIn[6], line 8\u001b[0m, in \u001b[0;36mrun_model_selection\u001b[1;34m(train_ds, val_ds, test_ds)\u001b[0m\n\u001b[0;32m      6\u001b[0m \u001b[38;5;28mprint\u001b[39m(\u001b[38;5;124mf\u001b[39m\u001b[38;5;124m\"\u001b[39m\u001b[38;5;130;01m\\n\u001b[39;00m\u001b[38;5;124mTraining \u001b[39m\u001b[38;5;132;01m{\u001b[39;00mname\u001b[38;5;132;01m}\u001b[39;00m\u001b[38;5;124m...\u001b[39m\u001b[38;5;124m\"\u001b[39m)\n\u001b[0;32m      7\u001b[0m model \u001b[38;5;241m=\u001b[39m build_model(name)\n\u001b[1;32m----> 8\u001b[0m hist \u001b[38;5;241m=\u001b[39m model\u001b[38;5;241m.\u001b[39mfit(\n\u001b[0;32m      9\u001b[0m     train_ds,\n\u001b[0;32m     10\u001b[0m     validation_data\u001b[38;5;241m=\u001b[39mval_ds,\n\u001b[0;32m     11\u001b[0m     epochs\u001b[38;5;241m=\u001b[39mEPOCHS,\n\u001b[0;32m     12\u001b[0m     callbacks\u001b[38;5;241m=\u001b[39mget_callbacks(name),\n\u001b[0;32m     13\u001b[0m     verbose\u001b[38;5;241m=\u001b[39m\u001b[38;5;241m2\u001b[39m\n\u001b[0;32m     14\u001b[0m )\n\u001b[0;32m     15\u001b[0m plot_metrics(hist, name)\n\u001b[0;32m     17\u001b[0m \u001b[38;5;28mprint\u001b[39m(\u001b[38;5;124m\"\u001b[39m\u001b[38;5;130;01m\\n\u001b[39;00m\u001b[38;5;124mEvaluating on test set...\u001b[39m\u001b[38;5;124m\"\u001b[39m)\n",
      "File \u001b[1;32m~\\anaconda3\\Lib\\site-packages\\keras\\src\\utils\\traceback_utils.py:122\u001b[0m, in \u001b[0;36mfilter_traceback.<locals>.error_handler\u001b[1;34m(*args, **kwargs)\u001b[0m\n\u001b[0;32m    119\u001b[0m     filtered_tb \u001b[38;5;241m=\u001b[39m _process_traceback_frames(e\u001b[38;5;241m.\u001b[39m__traceback__)\n\u001b[0;32m    120\u001b[0m     \u001b[38;5;66;03m# To get the full stack trace, call:\u001b[39;00m\n\u001b[0;32m    121\u001b[0m     \u001b[38;5;66;03m# `keras.config.disable_traceback_filtering()`\u001b[39;00m\n\u001b[1;32m--> 122\u001b[0m     \u001b[38;5;28;01mraise\u001b[39;00m e\u001b[38;5;241m.\u001b[39mwith_traceback(filtered_tb) \u001b[38;5;28;01mfrom\u001b[39;00m\u001b[38;5;250m \u001b[39m\u001b[38;5;28;01mNone\u001b[39;00m\n\u001b[0;32m    123\u001b[0m \u001b[38;5;28;01mfinally\u001b[39;00m:\n\u001b[0;32m    124\u001b[0m     \u001b[38;5;28;01mdel\u001b[39;00m filtered_tb\n",
      "File \u001b[1;32m~\\anaconda3\\Lib\\site-packages\\keras\\src\\utils\\file_utils.py:459\u001b[0m, in \u001b[0;36mFile\u001b[1;34m(path, mode)\u001b[0m\n\u001b[0;32m    457\u001b[0m     \u001b[38;5;28;01melse\u001b[39;00m:\n\u001b[0;32m    458\u001b[0m         _raise_if_no_gfile(path)\n\u001b[1;32m--> 459\u001b[0m \u001b[38;5;28;01mreturn\u001b[39;00m \u001b[38;5;28mopen\u001b[39m(path, mode\u001b[38;5;241m=\u001b[39mmode)\n",
      "\u001b[1;31mFileNotFoundError\u001b[0m: [Errno 2] No such file or directory: 'logs/VGG16.csv'"
     ]
    }
   ],
   "source": [
    "# --- CELL 7: LAUNCH COMPARISON ---\n",
    "\n",
    "run_model_selection(train_ds, val_ds, test_ds)\n"
   ]
  },
  {
   "cell_type": "code",
   "execution_count": null,
   "id": "1e7d3360-7ea1-4e25-8a35-e9d336937ad2",
   "metadata": {},
   "outputs": [],
   "source": []
  },
  {
   "cell_type": "code",
   "execution_count": null,
   "id": "096cf501-e6e8-4b3f-b903-dff847b09d9c",
   "metadata": {},
   "outputs": [],
   "source": []
  },
  {
   "cell_type": "code",
   "execution_count": null,
   "id": "96a90e84-2f70-4f7e-a41c-d5b3e68bdf8a",
   "metadata": {},
   "outputs": [],
   "source": []
  },
  {
   "cell_type": "code",
   "execution_count": null,
   "id": "f02b781d-989e-4128-bfd7-72b9e198562a",
   "metadata": {},
   "outputs": [],
   "source": []
  }
 ],
 "metadata": {
  "kernelspec": {
   "display_name": "Python [conda env:base] *",
   "language": "python",
   "name": "conda-base-py"
  },
  "language_info": {
   "codemirror_mode": {
    "name": "ipython",
    "version": 3
   },
   "file_extension": ".py",
   "mimetype": "text/x-python",
   "name": "python",
   "nbconvert_exporter": "python",
   "pygments_lexer": "ipython3",
   "version": "3.13.5"
  }
 },
 "nbformat": 4,
 "nbformat_minor": 5
}
